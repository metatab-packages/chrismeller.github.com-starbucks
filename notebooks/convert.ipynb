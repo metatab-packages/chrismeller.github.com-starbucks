{
 "cells": [
  {
   "cell_type": "code",
   "execution_count": 60,
   "metadata": {},
   "outputs": [],
   "source": [
    "import seaborn as sns\n",
    "import metapack as mp\n",
    "import pandas as pd\n",
    "import geopandas as gpd\n",
    "import numpy as np\n",
    "import matplotlib.pyplot as plt\n",
    "from IPython.display import display \n",
    "from geoid.censusnames import stusab\n",
    "\n",
    "%matplotlib inline\n",
    "sns.set_context('notebook')\n",
    "mp.jupyter.init()\n",
    "\n",
    "from shapely.geometry import Point\n"
   ]
  },
  {
   "cell_type": "code",
   "execution_count": 61,
   "metadata": {},
   "outputs": [
    {
     "data": {
      "text/html": [
       "<h1>Starbucks Locations</h1>\n",
       "<p><code>chrismeller.github.com-starbucks-1.1.1</code> Last Update: 2021-02-24T01:29:21</p>\n",
       "<p><em>A list of Starbucks locations, scraped from the web in 2017</em></p>\n",
       "<p>Starbucks locations scraped from the Starbucks website by Chris Meller. From the original README: </p>\n",
       "<pre><code>Contains a single commit for each day that batches up all changes to the Starbucks dataset as a CSV file.\n",
       "\n",
       "Deletes will obviously be stores that seem to have closed and adds are new stores that have opened.\n",
       "\n",
       "This is a work in progress. There is additional data that needs to be included in this dataset and it needs to get properly automated so we hav e a regular commit daily at a particular time.\n",
       "</code></pre>\n",
       "<h2>Documentation Links</h2>\n",
       "<ul>\n",
       "<li><a href=\"https://github.com/chrismeller/StarbucksLocations\">Source</a> Github page for the datafile source</li>\n",
       "</ul>\n",
       "<h2>Contacts</h2>\n",
       "<ul>\n",
       "<li><strong>Wrangler</strong> <a href=\"mailto:eric@civicknowledge.com\">Eric Busboom</a>, <a href=\"http://civicknowledge.com\">Civic Knowledge</a></li>\n",
       "</ul>\n",
       "<h2>Resources</h2>\n",
       "<ul>\n",
       "<li><strong> <a href=\"https://github.com/chrismeller/StarbucksLocations/raw/master/stores.csv\">all_starbucks</a></strong>. List of Starbucks locations.</li>\n",
       "<li><strong> <a href=\"notebooks/convert.ipynb#ussb\">us_starbucks</a></strong>. Geo file of starbucks in the US</li>\n",
       "</ul>\n",
       "<h2>References</h2>\n",
       "<ul><li> <strong>states</string>, <em>censusgeo://2019/5/US/state</em>. US States</li><ul>"
      ],
      "text/plain": [
       "# Starbucks Locations\n",
       "`chrismeller.github.com-starbucks-1.1.1` Last Update: 2021-02-24T01:29:21\n",
       "\n",
       "_A list of Starbucks locations, scraped from the web in 2017_\n",
       "\n",
       "\n",
       "Starbucks locations scraped from the Starbucks website by Chris Meller. From the original README: \n",
       "\n",
       "\n",
       "    Contains a single commit for each day that batches up all changes to the Starbucks dataset as a CSV file.\n",
       "\n",
       "    Deletes will obviously be stores that seem to have closed and adds are new stores that have opened.\n",
       "\n",
       "    This is a work in progress. There is additional data that needs to be included in this dataset and it needs to get properly automated so we hav e a regular commit daily at a particular time.\n",
       "## Documentation Links\n",
       "\n",
       "* [Source](https://github.com/chrismeller/StarbucksLocations) Github page for the datafile source\n",
       "\n",
       " \n",
       "\n",
       "## Contacts\n",
       "\n",
       "* **Wrangler** [Eric Busboom](mailto:eric@civicknowledge.com), [Civic Knowledge](http://civicknowledge.com)\n",
       "\n",
       "## Resources\n",
       "\n",
       "* ** [all_starbucks](https://github.com/chrismeller/StarbucksLocations/raw/master/stores.csv)**. List of Starbucks locations.\n",
       "* ** [us_starbucks](notebooks/convert.ipynb#ussb)**. Geo file of starbucks in the US\n",
       "\n",
       "## References\n",
       "<ul><li> <strong>states</string>, <em>censusgeo://2019/5/US/state</em>. US States</li><ul>\n"
      ]
     },
     "execution_count": 61,
     "metadata": {},
     "output_type": "execute_result"
    }
   ],
   "source": [
    "#pkg = mp.jupyter.open_package()\n",
    "pkg = mp.jupyter.open_source_package()\n",
    "pkg"
   ]
  },
  {
   "cell_type": "code",
   "execution_count": 52,
   "metadata": {},
   "outputs": [],
   "source": [
    "df = pkg.resource('all_starbucks').dataframe().dropna(subset=['Longitude','Latitude'])"
   ]
  },
  {
   "cell_type": "code",
   "execution_count": 38,
   "metadata": {},
   "outputs": [],
   "source": [
    "states = pkg.reference('states').geoframe().to_crs(4326)[['geoid','geometry']]\n"
   ]
  },
  {
   "cell_type": "code",
   "execution_count": 53,
   "metadata": {},
   "outputs": [
    {
     "data": {
      "text/plain": [
       "<AxesSubplot:>"
      ]
     },
     "execution_count": 53,
     "metadata": {},
     "output_type": "execute_result"
    },
    {
     "data": {
      "image/png": "[encoded data removed]",
      "text/plain": [
       "<Figure size 432x288 with 1 Axes>"
      ]
     },
     "metadata": {
      "needs_background": "light"
     },
     "output_type": "display_data"
    }
   ],
   "source": [
    "\n",
    "df['geometry'] = df.apply(lambda r: Point(r.Longitude, r.Latitude), axis=1)\n",
    "df = gpd.GeoDataFrame(df, crs=4326)\n",
    "ussb = gpd.overlay(df, states) # Starbucks in the US\n"
   ]
  },
  {
   "cell_type": "code",
   "execution_count": 59,
   "metadata": {},
   "outputs": [
    {
     "data": {
      "text/plain": [
       "<AxesSubplot:>"
      ]
     },
     "execution_count": 59,
     "metadata": {},
     "output_type": "execute_result"
    },
    {
     "data": {
      "image/png": "[encoded data removed]",
      "text/plain": [
       "<Figure size 432x288 with 1 Axes>"
      ]
     },
     "metadata": {
      "needs_background": "light"
     },
     "output_type": "display_data"
    }
   ],
   "source": [
    "ussb.plot()"
   ]
  }
 ],
 "metadata": {
  "kernelspec": {
   "display_name": "Python 3",
   "language": "python",
   "name": "python3"
  },
  "language_info": {
   "codemirror_mode": {
    "name": "ipython",
    "version": 3
   },
   "file_extension": ".py",
   "mimetype": "text/x-python",
   "name": "python",
   "nbconvert_exporter": "python",
   "pygments_lexer": "ipython3",
   "version": "3.7.9"
  }
 },
 "nbformat": 4,
 "nbformat_minor": 4
}
